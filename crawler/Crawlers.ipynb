{
 "cells": [
  {
   "cell_type": "markdown",
   "metadata": {},
   "source": [
    "### Instagram to VK crawler"
   ]
  },
  {
   "cell_type": "code",
   "execution_count": 3,
   "metadata": {
    "collapsed": true
   },
   "outputs": [],
   "source": [
    "from pymongo import MongoClient\n",
    "import vk\n",
    "import time\n",
    "\n",
    "client = MongoClient()\n",
    "usersDB = client[\"users\"][\"full\"]\n",
    "finalDB = client[\"users\"][\"vk\"]\n",
    "\n",
    "session = vk.Session()\n",
    "api = vk.API(session)\n",
    "\n",
    "fields = [\t'photo_id', 'sex', 'bdate', 'city', \n",
    "\t\t\t'country', 'home_town', 'photo_100', 'lists', \n",
    "\t\t\t'domain', 'contacts', 'site', 'education', \n",
    "\t\t\t'universities', 'schools', 'status', 'followers_count', \n",
    "\t\t\t'occupation', 'nickname', 'relatives', 'relation', \n",
    "\t\t\t'personal', 'connections', 'exports', 'wall_comments', \n",
    "\t\t\t'activities', 'interests', 'music', 'movies', \n",
    "\t\t\t'tv', 'books', 'games', 'about', \n",
    "\t\t\t'quotes', 'timezone', 'screen_name', \n",
    "\t\t\t'career', 'military']\n"
   ]
  },
  {
   "cell_type": "code",
   "execution_count": 13,
   "metadata": {
    "collapsed": false
   },
   "outputs": [
    {
     "name": "stdout",
     "output_type": "stream",
     "text": [
      "andreydjv http://vk.com/djvlp djvlp OK\n",
      "hrust1911 http://vk.com/id838106 id838106 OK\n",
      "liliialogvuniuk https://vk.com/logvuniuk logvuniuk OK\n",
      "akotova_ http://vk.com/alina__kotova alina__kotova OK\n",
      "kol9kuzmin http://vk.com/id176855929 id176855929 OK\n",
      "_s.timofeeva_ http://vk.com/t_i_m_o_f_e_e_v_a99 t_i_m_o_f_e_e_v_a99 OK\n",
      "alex_kukharuk http://vk.com/kukharuk0 kukharuk0 OK\n",
      "labyrinth_club http://vk.com/labyrinth_night_club labyrinth_night_club FAIL\n",
      "katerinaaverkina http://vk.com/id238712889 id238712889 OK\n",
      "temnikovad http://vk.com/id331669738 id331669738 OK\n"
     ]
    }
   ],
   "source": [
    "for user in usersDB.find({\"external_url\" : {\"$regex\" : \"/vk.com/\"}, \"VK_parsed\" : None}).limit(10):\n",
    "    user_id = user[\"external_url\"].encode('utf8').split('/')[-1] or user[\"external_url\"].encode('utf8').split('/')[-2]\n",
    "    try:\n",
    "        userVK = api.users.get(user_ids = user_id, fields = fields)\n",
    "        print user[\"username\"], user[\"external_url\"], user_id, \"OK\"\n",
    "    except:\n",
    "        print user[\"username\"], user[\"external_url\"], user_id, \"FAIL\""
   ]
  },
  {
   "cell_type": "markdown",
   "metadata": {},
   "source": [
    "### VK filter"
   ]
  },
  {
   "cell_type": "code",
   "execution_count": null,
   "metadata": {
    "collapsed": true
   },
   "outputs": [],
   "source": []
  }
 ],
 "metadata": {
  "kernelspec": {
   "display_name": "Python 2",
   "language": "python",
   "name": "python2"
  },
  "language_info": {
   "codemirror_mode": {
    "name": "ipython",
    "version": 2
   },
   "file_extension": ".py",
   "mimetype": "text/x-python",
   "name": "python",
   "nbconvert_exporter": "python",
   "pygments_lexer": "ipython2",
   "version": "2.7.9"
  }
 },
 "nbformat": 4,
 "nbformat_minor": 0
}
