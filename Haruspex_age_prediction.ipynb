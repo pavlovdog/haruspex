{
 "cells": [
  {
   "cell_type": "code",
   "execution_count": null,
   "metadata": {
    "collapsed": false
   },
   "outputs": [],
   "source": [
    "from env_data import *\n",
    "from plot_data import *\n",
    "import numpy as np\n",
    "import pandas as pd\n",
    "import scipy.stats as stats\n",
    "import matplotlib.pyplot as plt\n",
    "import sklearn\n",
    "import matplotlib\n",
    "from pymongo import MongoClient\n",
    "import collections\n",
    "\n",
    "%matplotlib inline\n",
    "matplotlib.rcParams['figure.figsize'] = (30.0, 15.0)"
   ]
  },
  {
   "cell_type": "markdown",
   "metadata": {},
   "source": [
    "### Feature engineering"
   ]
  },
  {
   "cell_type": "code",
   "execution_count": null,
   "metadata": {
    "collapsed": false
   },
   "outputs": [],
   "source": [
    "ages = list_ages()\n",
    "followers = count_followers()\n",
    "followings = count_followings()\n",
    "media = count_media()\n",
    "likes = average_likes()\n",
    "comments = average_comments()\n",
    "usernames = list_usernames()\n",
    "sex = list_sex()\n",
    "caption_lenght = average_lenght_caption()\n",
    "smileys = average_smileys()\n",
    "frequency = media_frequency()\n",
    "video = video_number()\n",
    "age_classes = list_ages_classes()"
   ]
  },
  {
   "cell_type": "code",
   "execution_count": null,
   "metadata": {
    "collapsed": false
   },
   "outputs": [],
   "source": [
    "features_dataset = np.array([followers, followings, media, likes, comments, \n",
    "                        caption_lenght, smileys, frequency, video]).T\n",
    "\n",
    "training_size = 0.7\n",
    "\n",
    "features_training = features_dataset[:int(training_size*len(features_dataset))]\n",
    "features_testing = features_dataset[int(training_size*len(features_dataset)):]\n",
    "\n",
    "labels_training = age_classes[:int(training_size*len(features_dataset))]\n",
    "labels_testing = age_classes[int(training_size*len(features_dataset)):]\n",
    "\n",
    "age_class_names = [\"X = (.., 17)\", \n",
    "                   \"X = [17, 19)\", \n",
    "                   \"X = [19, 21)\", \n",
    "                   \"X = [21, 23)\", \n",
    "                   \"X = [23, ..]\"]"
   ]
  },
  {
   "cell_type": "markdown",
   "metadata": {},
   "source": [
    "### Distributions"
   ]
  },
  {
   "cell_type": "code",
   "execution_count": null,
   "metadata": {
    "collapsed": false
   },
   "outputs": [],
   "source": [
    "fig = plt.figure()\n",
    "\n",
    "plot_distribution(age_classes, fig, 331, age_class_names, \"Distribution of users by age classes\")"
   ]
  },
  {
   "cell_type": "markdown",
   "metadata": {},
   "source": [
    "### Decision trees"
   ]
  },
  {
   "cell_type": "code",
   "execution_count": null,
   "metadata": {
    "collapsed": false
   },
   "outputs": [],
   "source": [
    "from sklearn import metrics\n",
    "from sklearn.tree import DecisionTreeClassifier\n",
    "from sklearn.cross_validation import KFold\n",
    "\n",
    "fig = plt.figure()\n",
    "\n",
    "classifier = DecisionTreeClassifier()\n",
    "classifier.fit(features_training, labels_training)\n",
    "predicted = classifier.predict(features_testing)\n",
    "\n",
    "cm = metrics.confusion_matrix(labels_testing, predicted)\n",
    "report = metrics.classification_report(labels_testing, predicted)\n",
    "plot_confusion_matrix(fig, cm, age_class_names, 121, cmap = plt.cm.cool)\n",
    "plot_classification_report(fig, report, age_class_names, 122, cmap = plt.cm.cool)"
   ]
  },
  {
   "cell_type": "markdown",
   "metadata": {},
   "source": [
    "### K-nearest neighbours"
   ]
  },
  {
   "cell_type": "code",
   "execution_count": null,
   "metadata": {
    "collapsed": false
   },
   "outputs": [],
   "source": [
    "from sklearn.neighbors import KNeighborsClassifier\n",
    "from sklearn import metrics\n",
    "from sklearn.cross_validation import KFold\n",
    "\n",
    "fig = plt.figure()\n",
    "\n",
    "classifier = KNeighborsClassifier(n_neighbors = 5)\n",
    "classifier.fit(features_training, labels_training)\n",
    "predicted = classifier.predict(features_testing)\n",
    "\n",
    "cm = metrics.confusion_matrix(labels_testing, predicted)\n",
    "report = metrics.classification_report(labels_testing, predicted)\n",
    "plot_confusion_matrix(fig, cm, age_class_names, 121, cmap = plt.cm.cool)\n",
    "plot_classification_report(fig, report, age_class_names, 122, cmap = plt.cm.cool)"
   ]
  },
  {
   "cell_type": "markdown",
   "metadata": {},
   "source": [
    "### Naive Bayes"
   ]
  },
  {
   "cell_type": "code",
   "execution_count": null,
   "metadata": {
    "collapsed": false
   },
   "outputs": [],
   "source": [
    "from sklearn import metrics\n",
    "from sklearn.naive_bayes import GaussianNB\n",
    "from sklearn.cross_validation import KFold\n",
    "\n",
    "fig = plt.figure()\n",
    "\n",
    "classifier = GaussianNB()\n",
    "classifier.fit(features_training, labels_training)\n",
    "predicted = classifier.predict(features_testing)\n",
    "\n",
    "cm = metrics.confusion_matrix(labels_testing, predicted)\n",
    "report = metrics.classification_report(labels_testing, predicted)\n",
    "plot_confusion_matrix(fig, cm, age_class_names, 121, cmap = plt.cm.cool)\n",
    "plot_classification_report(fig, report, age_class_names, 122, cmap = plt.cm.cool)"
   ]
  },
  {
   "cell_type": "markdown",
   "metadata": {},
   "source": [
    "### Logistic regression"
   ]
  },
  {
   "cell_type": "code",
   "execution_count": null,
   "metadata": {
    "collapsed": false
   },
   "outputs": [],
   "source": [
    "from sklearn import metrics\n",
    "from sklearn.linear_model import LogisticRegression\n",
    "from sklearn.cross_validation import KFold\n",
    "\n",
    "fig = plt.figure()\n",
    "\n",
    "classifier = LogisticRegression()\n",
    "classifier.fit(features_training, labels_training)\n",
    "predicted = classifier.predict(features_testing)\n",
    "\n",
    "cm = metrics.confusion_matrix(labels_testing, predicted)\n",
    "report = metrics.classification_report(labels_testing, predicted)\n",
    "plot_confusion_matrix(fig, cm, age_class_names, 121, cmap = plt.cm.cool)\n",
    "plot_classification_report(fig, report, age_class_names, 122, cmap = plt.cm.cool)"
   ]
  }
 ],
 "metadata": {
  "kernelspec": {
   "display_name": "Python 2",
   "language": "python",
   "name": "python2"
  },
  "language_info": {
   "codemirror_mode": {
    "name": "ipython",
    "version": 2
   },
   "file_extension": ".py",
   "mimetype": "text/x-python",
   "name": "python",
   "nbconvert_exporter": "python",
   "pygments_lexer": "ipython2",
   "version": "2.7.11"
  }
 },
 "nbformat": 4,
 "nbformat_minor": 0
}
