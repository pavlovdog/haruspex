{
 "cells": [
  {
   "cell_type": "code",
   "execution_count": 2,
   "metadata": {
    "collapsed": false
   },
   "outputs": [],
   "source": [
    "from pymongo import MongoClient\n",
    "import numpy as np\n",
    "from env_data import list_ages\n",
    "import collections"
   ]
  },
  {
   "cell_type": "code",
   "execution_count": 23,
   "metadata": {
    "collapsed": false
   },
   "outputs": [
    {
     "name": "stdout",
     "output_type": "stream",
     "text": [
      "1351\n"
     ]
    },
    {
     "data": {
      "text/plain": [
       "Counter({0.0: 276, 1.0: 291, 2.0: 303, 3.0: 205, 4.0: 276})"
      ]
     },
     "execution_count": 23,
     "metadata": {},
     "output_type": "execute_result"
    }
   ],
   "source": [
    "def list_ages_classes():\n",
    "    ages = list_ages()\n",
    "    response = np.array([])\n",
    "    \n",
    "    for age in ages:\n",
    "        if age <= 17:\n",
    "            response = np.append(response, 0)\n",
    "        elif 17 < age <= 19:\n",
    "            response = np.append(response, 1)\n",
    "        elif 19 < age <= 21:\n",
    "            response = np.append(response, 2)\n",
    "        elif 21 < age <= 23:\n",
    "            response = np.append(response, 3)\n",
    "        else:\n",
    "            response = np.append(response, 4)\n",
    "            \n",
    "    return response\n",
    "\n",
    "r = list_ages_classes()\n",
    "\n",
    "collections.Counter(r)"
   ]
  }
 ],
 "metadata": {
  "kernelspec": {
   "display_name": "Python 2",
   "language": "python",
   "name": "python2"
  },
  "language_info": {
   "codemirror_mode": {
    "name": "ipython",
    "version": 2
   },
   "file_extension": ".py",
   "mimetype": "text/x-python",
   "name": "python",
   "nbconvert_exporter": "python",
   "pygments_lexer": "ipython2",
   "version": "2.7.9"
  }
 },
 "nbformat": 4,
 "nbformat_minor": 0
}
